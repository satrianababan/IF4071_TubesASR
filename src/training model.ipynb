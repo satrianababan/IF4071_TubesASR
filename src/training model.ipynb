{
 "cells": [
  {
   "cell_type": "code",
   "execution_count": 1,
   "metadata": {},
   "outputs": [],
   "source": [
    "from datasets import Dataset\n",
    "import random\n",
    "import pandas as pd\n",
    "import re\n",
    "import json\n",
    "import IPython.display as ipd\n",
    "import numpy as np\n",
    "from transformers import Wav2Vec2FeatureExtractor, Wav2Vec2CTCTokenizer, Wav2Vec2Processor\n",
    "import torch"
   ]
  },
  {
   "cell_type": "code",
   "execution_count": 2,
   "metadata": {},
   "outputs": [
    {
     "data": {
      "text/plain": [
       "Dataset({\n",
       "    features: ['audio', 'text'],\n",
       "    num_rows: 2947\n",
       "})"
      ]
     },
     "execution_count": 2,
     "metadata": {},
     "output_type": "execute_result"
    }
   ],
   "source": [
    "reloaded_dataset = Dataset.load_from_disk(\"../results/WAV2VEC2_DATASET\")  # Load the dataset from the disk\n",
    "reloaded_dataset = reloaded_dataset.remove_columns([\"filename\"]) # Remove the filename column\n",
    "reloaded_dataset"
   ]
  },
  {
   "cell_type": "code",
   "execution_count": 3,
   "metadata": {},
   "outputs": [
    {
     "data": {
      "application/vnd.jupyter.widget-view+json": {
       "model_id": "e4ad2cc737a24688bcf6f67c9cf98351",
       "version_major": 2,
       "version_minor": 0
      },
      "text/plain": [
       "Filter:   0%|          | 0/2947 [00:00<?, ? examples/s]"
      ]
     },
     "metadata": {},
     "output_type": "display_data"
    },
    {
     "data": {
      "text/plain": [
       "Dataset({\n",
       "    features: ['audio', 'text'],\n",
       "    num_rows: 2886\n",
       "})"
      ]
     },
     "execution_count": 3,
     "metadata": {},
     "output_type": "execute_result"
    }
   ],
   "source": [
    "# Annotations to exclude\n",
    "annotations_to_exclude = [\n",
    "    \"[*]\", \"[LAUGHTER]\", \"[SONANT]\", \"[MUSIC]\", \"[SYSTEM]\", \"[ENS]\", \"[UNK]\", \"+\"\n",
    "]\n",
    "\n",
    "# Filter out annotations\n",
    "filtered_dataset = reloaded_dataset.filter(\n",
    "    lambda example: not any(annotation in example[\"text\"] for annotation in annotations_to_exclude)\n",
    ")\n",
    "\n",
    "filtered_dataset"
   ]
  },
  {
   "cell_type": "code",
   "execution_count": 4,
   "metadata": {},
   "outputs": [
    {
     "data": {
      "application/vnd.jupyter.widget-view+json": {
       "model_id": "50bd5d23723d48c6acc3fec3aecc3be4",
       "version_major": 2,
       "version_minor": 0
      },
      "text/plain": [
       "Map:   0%|          | 0/2886 [00:00<?, ? examples/s]"
      ]
     },
     "metadata": {},
     "output_type": "display_data"
    }
   ],
   "source": [
    "def convert_to_proper_case(text):\n",
    "    # Replace hyphens with spaces\n",
    "    text = re.sub(r'-', ' ', text)\n",
    "    \n",
    "    # Remove periods, commas, and apostrophes\n",
    "    text = re.sub(r'[.,\\']', '', text)\n",
    "\n",
    "    # Use regular expression to match words\n",
    "    text = re.sub(r'\\b([A-Za-z]{2,})\\b', lambda match: match.group(1).lower(), text)\n",
    "    \n",
    "    return text\n",
    "\n",
    "filtered_dataset = filtered_dataset.map(\n",
    "    lambda example: {**example, 'text': convert_to_proper_case(example['text'])}\n",
    ")\n"
   ]
  },
  {
   "cell_type": "code",
   "execution_count": 5,
   "metadata": {},
   "outputs": [
    {
     "data": {
      "text/html": [
       "<div>\n",
       "<style scoped>\n",
       "    .dataframe tbody tr th:only-of-type {\n",
       "        vertical-align: middle;\n",
       "    }\n",
       "\n",
       "    .dataframe tbody tr th {\n",
       "        vertical-align: top;\n",
       "    }\n",
       "\n",
       "    .dataframe thead th {\n",
       "        text-align: right;\n",
       "    }\n",
       "</style>\n",
       "<table border=\"1\" class=\"dataframe\">\n",
       "  <thead>\n",
       "    <tr style=\"text-align: right;\">\n",
       "      <th></th>\n",
       "      <th>audio</th>\n",
       "      <th>text</th>\n",
       "    </tr>\n",
       "  </thead>\n",
       "  <tbody>\n",
       "    <tr>\n",
       "      <th>0</th>\n",
       "      <td>[-511.0000000000002, -515.9999999999998, -513....</td>\n",
       "      <td>halo mishela</td>\n",
       "    </tr>\n",
       "    <tr>\n",
       "      <th>1</th>\n",
       "      <td>[-12.000000000000083, -11.99999999999995, -13....</td>\n",
       "      <td>gimana kabarnya di sana</td>\n",
       "    </tr>\n",
       "    <tr>\n",
       "      <th>2</th>\n",
       "      <td>[-6.000000000000045, -5.939557236068103e-14, 4...</td>\n",
       "      <td>wes sendiri juga baik baik aja</td>\n",
       "    </tr>\n",
       "    <tr>\n",
       "      <th>3</th>\n",
       "      <td>[-16.99999999999999, -19.000000000000046, -18....</td>\n",
       "      <td>terus</td>\n",
       "    </tr>\n",
       "    <tr>\n",
       "      <th>4</th>\n",
       "      <td>[-8.000000000000075, -4.999999999999978, -4.99...</td>\n",
       "      <td>gimana</td>\n",
       "    </tr>\n",
       "    <tr>\n",
       "      <th>...</th>\n",
       "      <td>...</td>\n",
       "      <td>...</td>\n",
       "    </tr>\n",
       "    <tr>\n",
       "      <th>2881</th>\n",
       "      <td>[-31.999999999998757, -11.000000000000234, -8....</td>\n",
       "      <td>iya</td>\n",
       "    </tr>\n",
       "    <tr>\n",
       "      <th>2882</th>\n",
       "      <td>[-14.999999999999968, -25.000000000000497, -33...</td>\n",
       "      <td>oke</td>\n",
       "    </tr>\n",
       "    <tr>\n",
       "      <th>2883</th>\n",
       "      <td>[32.999999999999645, 16.00000000000048, 20.000...</td>\n",
       "      <td>dah</td>\n",
       "    </tr>\n",
       "    <tr>\n",
       "      <th>2884</th>\n",
       "      <td>[-44.00000000000009, -34.9999999999996, -36.99...</td>\n",
       "      <td>dah</td>\n",
       "    </tr>\n",
       "    <tr>\n",
       "      <th>2885</th>\n",
       "      <td>[61.999999999999986, 65.00000000000004, 91.000...</td>\n",
       "      <td>dah</td>\n",
       "    </tr>\n",
       "  </tbody>\n",
       "</table>\n",
       "<p>2886 rows × 2 columns</p>\n",
       "</div>"
      ],
      "text/plain": [
       "                                                  audio  \\\n",
       "0     [-511.0000000000002, -515.9999999999998, -513....   \n",
       "1     [-12.000000000000083, -11.99999999999995, -13....   \n",
       "2     [-6.000000000000045, -5.939557236068103e-14, 4...   \n",
       "3     [-16.99999999999999, -19.000000000000046, -18....   \n",
       "4     [-8.000000000000075, -4.999999999999978, -4.99...   \n",
       "...                                                 ...   \n",
       "2881  [-31.999999999998757, -11.000000000000234, -8....   \n",
       "2882  [-14.999999999999968, -25.000000000000497, -33...   \n",
       "2883  [32.999999999999645, 16.00000000000048, 20.000...   \n",
       "2884  [-44.00000000000009, -34.9999999999996, -36.99...   \n",
       "2885  [61.999999999999986, 65.00000000000004, 91.000...   \n",
       "\n",
       "                                text  \n",
       "0                       halo mishela  \n",
       "1            gimana kabarnya di sana  \n",
       "2     wes sendiri juga baik baik aja  \n",
       "3                              terus  \n",
       "4                             gimana  \n",
       "...                              ...  \n",
       "2881                             iya  \n",
       "2882                             oke  \n",
       "2883                             dah  \n",
       "2884                             dah  \n",
       "2885                             dah  \n",
       "\n",
       "[2886 rows x 2 columns]"
      ]
     },
     "execution_count": 5,
     "metadata": {},
     "output_type": "execute_result"
    }
   ],
   "source": [
    "df = pd.DataFrame(filtered_dataset)\n",
    "df"
   ]
  },
  {
   "cell_type": "code",
   "execution_count": 6,
   "metadata": {},
   "outputs": [
    {
     "data": {
      "text/plain": [
       "{' ': 0,\n",
       " 'A': 1,\n",
       " 'C': 2,\n",
       " 'D': 3,\n",
       " 'E': 4,\n",
       " 'F': 5,\n",
       " 'G': 6,\n",
       " 'H': 7,\n",
       " 'I': 8,\n",
       " 'K': 9,\n",
       " 'M': 10,\n",
       " 'N': 11,\n",
       " 'O': 12,\n",
       " 'P': 13,\n",
       " 'R': 14,\n",
       " 'S': 15,\n",
       " 'T': 16,\n",
       " 'U': 17,\n",
       " 'V': 18,\n",
       " 'W': 19,\n",
       " 'Y': 20,\n",
       " 'a': 21,\n",
       " 'b': 22,\n",
       " 'c': 23,\n",
       " 'd': 24,\n",
       " 'e': 25,\n",
       " 'f': 26,\n",
       " 'g': 27,\n",
       " 'h': 28,\n",
       " 'i': 29,\n",
       " 'j': 30,\n",
       " 'k': 31,\n",
       " 'l': 32,\n",
       " 'm': 33,\n",
       " 'n': 34,\n",
       " 'o': 35,\n",
       " 'p': 36,\n",
       " 'q': 37,\n",
       " 'r': 38,\n",
       " 's': 39,\n",
       " 't': 40,\n",
       " 'u': 41,\n",
       " 'v': 42,\n",
       " 'w': 43,\n",
       " 'x': 44,\n",
       " 'y': 45,\n",
       " 'z': 46}"
      ]
     },
     "execution_count": 6,
     "metadata": {},
     "output_type": "execute_result"
    }
   ],
   "source": [
    "# Define the function to compute vocab\n",
    "def extract_all_chars(dataset):\n",
    "    # Concatenate all text into a single string and get unique characters\n",
    "    all_text = \" \".join(dataset[\"text\"])\n",
    "    vocab = sorted(set(all_text))\n",
    "    return vocab\n",
    "\n",
    "# Extract vocabulary\n",
    "vocab = extract_all_chars(filtered_dataset)\n",
    "vocab_list = list(vocab)\n",
    "\n",
    "vocab_dict = {v: k for k, v in enumerate(vocab_list)}\n",
    "vocab_dict"
   ]
  },
  {
   "cell_type": "code",
   "execution_count": 7,
   "metadata": {},
   "outputs": [
    {
     "data": {
      "text/plain": [
       "{' ': 0,\n",
       " 'A': 1,\n",
       " 'C': 2,\n",
       " 'D': 3,\n",
       " 'E': 4,\n",
       " 'F': 5,\n",
       " 'G': 6,\n",
       " 'H': 7,\n",
       " 'I': 8,\n",
       " 'K': 9,\n",
       " 'M': 10,\n",
       " 'N': 11,\n",
       " 'O': 12,\n",
       " 'P': 13,\n",
       " 'R': 14,\n",
       " 'S': 15,\n",
       " 'T': 16,\n",
       " 'U': 17,\n",
       " 'V': 18,\n",
       " 'W': 19,\n",
       " 'Y': 20,\n",
       " 'a': 21,\n",
       " 'b': 22,\n",
       " 'c': 23,\n",
       " 'd': 24,\n",
       " 'e': 25,\n",
       " 'f': 26,\n",
       " 'g': 27,\n",
       " 'h': 28,\n",
       " 'i': 29,\n",
       " 'j': 30,\n",
       " 'k': 31,\n",
       " 'l': 32,\n",
       " 'm': 33,\n",
       " 'n': 34,\n",
       " 'o': 35,\n",
       " 'p': 36,\n",
       " 'q': 37,\n",
       " 'r': 38,\n",
       " 's': 39,\n",
       " 't': 40,\n",
       " 'u': 41,\n",
       " 'v': 42,\n",
       " 'w': 43,\n",
       " 'x': 44,\n",
       " 'y': 45,\n",
       " 'z': 46,\n",
       " '[UNK]': 47,\n",
       " '[PAD]': 48}"
      ]
     },
     "execution_count": 7,
     "metadata": {},
     "output_type": "execute_result"
    }
   ],
   "source": [
    "vocab_dict[\"[UNK]\"] = len(vocab_dict)\n",
    "vocab_dict[\"[PAD]\"] = len(vocab_dict)\n",
    "vocab_dict"
   ]
  },
  {
   "cell_type": "code",
   "execution_count": 8,
   "metadata": {},
   "outputs": [],
   "source": [
    "with open('../results/vocab.json', 'w') as vocab_file:\n",
    "    json.dump(vocab_dict, vocab_file)"
   ]
  },
  {
   "cell_type": "code",
   "execution_count": 9,
   "metadata": {},
   "outputs": [
    {
     "name": "stdout",
     "output_type": "stream",
     "text": [
      "terus menurut mu apa lagi\n"
     ]
    },
    {
     "data": {
      "text/html": [
       "\n",
       "                <audio  controls=\"controls\" autoplay=\"autoplay\">\n",
       "                    <source src=\"data:audio/wav;base64,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\" type=\"audio/wav\" />\n",
       "                    Your browser does not support the audio element.\n",
       "                </audio>\n",
       "              "
      ],
      "text/plain": [
       "<IPython.lib.display.Audio object>"
      ]
     },
     "execution_count": 9,
     "metadata": {},
     "output_type": "execute_result"
    }
   ],
   "source": [
    "rand_int = random.randint(0, len(reloaded_dataset))\n",
    "\n",
    "print(reloaded_dataset[rand_int][\"text\"])\n",
    "ipd.Audio(data=np.asarray(reloaded_dataset[rand_int][\"audio\"]), autoplay=True, rate=16000)\n"
   ]
  },
  {
   "cell_type": "code",
   "execution_count": 10,
   "metadata": {},
   "outputs": [
    {
     "data": {
      "application/vnd.jupyter.widget-view+json": {
       "model_id": "e53ece4cd25e494ba7ff73e96eeae40e",
       "version_major": 2,
       "version_minor": 0
      },
      "text/plain": [
       "Map:   0%|          | 0/2886 [00:00<?, ? examples/s]"
      ]
     },
     "metadata": {},
     "output_type": "display_data"
    },
    {
     "name": "stderr",
     "output_type": "stream",
     "text": [
      "C:\\Users\\LOUIS\\AppData\\Roaming\\Python\\Python312\\site-packages\\transformers\\models\\wav2vec2\\processing_wav2vec2.py:174: UserWarning: `as_target_processor` is deprecated and will be removed in v5 of Transformers. You can process your labels by using the argument `text` of the regular `__call__` method (either in the same call as your audio inputs, or in a separate call.\n",
      "  warnings.warn(\n"
     ]
    },
    {
     "data": {
      "text/plain": [
       "Dataset({\n",
       "    features: ['audio', 'text', 'input_values', 'labels'],\n",
       "    num_rows: 2886\n",
       "})"
      ]
     },
     "execution_count": 10,
     "metadata": {},
     "output_type": "execute_result"
    }
   ],
   "source": [
    "feature_extractor = Wav2Vec2FeatureExtractor(\n",
    "    feature_size=1, sampling_rate=16000, padding_value=0.0, do_normalize=True, return_attention_mask=False\n",
    ")\n",
    "\n",
    "tokenizer = Wav2Vec2CTCTokenizer(\n",
    "    \"../results/vocab.json\", unk_token=\"[UNK]\", pad_token=\"[PAD]\", word_delimiter_token=\" \"\n",
    ")\n",
    "\n",
    "processor = Wav2Vec2Processor(feature_extractor=feature_extractor, tokenizer=tokenizer)\n",
    "\n",
    "def prepare_dataset(batch):\n",
    "    \n",
    "    audio = batch[\"audio\"]\n",
    "    \n",
    "    # batched output is \"un-batched\" to ensure mapping is correct\n",
    "    batch[\"input_values\"] = processor(audio, sampling_rate=16000).input_values[0]\n",
    "    \n",
    "    with processor.as_target_processor():\n",
    "        batch[\"labels\"] = processor(batch[\"text\"]).input_ids\n",
    "    \n",
    "    return batch\n",
    "\n",
    "# Apply the function with multiple processes\n",
    "dataset = filtered_dataset.map(prepare_dataset)\n",
    "dataset"
   ]
  },
  {
   "cell_type": "code",
   "execution_count": 11,
   "metadata": {},
   "outputs": [],
   "source": [
    "from dataclasses import dataclass, field\n",
    "from typing import Any, Dict, List, Optional, Union\n",
    "\n",
    "@dataclass\n",
    "class DataCollatorCTCWithPadding:\n",
    "\n",
    "    processor: Wav2Vec2Processor\n",
    "    padding: Union[bool, str] = True\n",
    "    max_length: Optional[int] = None\n",
    "    max_length_labels: Optional[int] = None\n",
    "    pad_to_multiple_of: Optional[int] = None\n",
    "    pad_to_multiple_of_labels: Optional[int] = None\n",
    "\n",
    "    def __call__(self, features: List[Dict[str, Union[List[int], torch.Tensor]]]) -> Dict[str, torch.Tensor]:\n",
    "        # Split inputs and labels for separate padding\n",
    "        input_features = [{\"input_values\": feature[\"input_values\"]} for feature in features]\n",
    "        label_features = [{\"input_ids\": feature[\"labels\"]} for feature in features]\n",
    "\n",
    "        # Pad input features\n",
    "        batch = self.processor.pad(\n",
    "            input_features,\n",
    "            padding=self.padding,\n",
    "            max_length=self.max_length,\n",
    "            pad_to_multiple_of=self.pad_to_multiple_of,\n",
    "            return_tensors=\"pt\",\n",
    "        )\n",
    "\n",
    "        # Pad labels as target processor\n",
    "        with self.processor.as_target_processor():\n",
    "            labels_batch = self.processor.pad(\n",
    "                label_features,\n",
    "                padding=self.padding,\n",
    "                max_length=self.max_length_labels,\n",
    "                pad_to_multiple_of=self.pad_to_multiple_of_labels,\n",
    "                return_tensors=\"pt\",\n",
    "            )\n",
    "\n",
    "        # Handle label padding (-100 for ignored loss computation)\n",
    "        if \"attention_mask\" in labels_batch:\n",
    "            labels = labels_batch[\"input_ids\"].masked_fill(labels_batch.attention_mask.ne(1), -100)\n",
    "        else:\n",
    "            labels = labels_batch[\"input_ids\"].masked_fill(\n",
    "                labels_batch[\"input_ids\"] == self.processor.tokenizer.pad_token_id, -100\n",
    "            )\n",
    "\n",
    "        # Add labels to the batch\n",
    "        batch[\"labels\"] = labels\n",
    "\n",
    "        return batch\n"
   ]
  },
  {
   "cell_type": "code",
   "execution_count": 12,
   "metadata": {},
   "outputs": [
    {
     "name": "stdout",
     "output_type": "stream",
     "text": [
      "EvaluationModule(name: \"wer\", module_type: \"metric\", features: {'predictions': Value(dtype='string', id='sequence'), 'references': Value(dtype='string', id='sequence')}, usage: \"\"\"\n",
      "Compute WER score of transcribed segments against references.\n",
      "\n",
      "Args:\n",
      "    references: List of references for each speech input.\n",
      "    predictions: List of transcriptions to score.\n",
      "    concatenate_texts (bool, default=False): Whether to concatenate all input texts or compute WER iteratively.\n",
      "\n",
      "Returns:\n",
      "    (float): the word error rate\n",
      "\n",
      "Examples:\n",
      "\n",
      "    >>> predictions = [\"this is the prediction\", \"there is an other sample\"]\n",
      "    >>> references = [\"this is the reference\", \"there is another one\"]\n",
      "    >>> wer = evaluate.load(\"wer\")\n",
      "    >>> wer_score = wer.compute(predictions=predictions, references=references)\n",
      "    >>> print(wer_score)\n",
      "    0.5\n",
      "\"\"\", stored examples: 0)\n",
      "EvaluationModule(name: \"cer\", module_type: \"metric\", features: {'predictions': Value(dtype='string', id='sequence'), 'references': Value(dtype='string', id='sequence')}, usage: \"\"\"\n",
      "Computes CER score of transcribed segments against references.\n",
      "Args:\n",
      "    references: list of references for each speech input.\n",
      "    predictions: list of transcribtions to score.\n",
      "    concatenate_texts: Whether or not to concatenate sentences before evaluation, set to True for more accurate result.\n",
      "Returns:\n",
      "    (float): the character error rate\n",
      "\n",
      "Examples:\n",
      "\n",
      "    >>> predictions = [\"this is the prediction\", \"there is an other sample\"]\n",
      "    >>> references = [\"this is the reference\", \"there is another one\"]\n",
      "    >>> cer = evaluate.load(\"cer\")\n",
      "    >>> cer_score = cer.compute(predictions=predictions, references=references)\n",
      "    >>> print(cer_score)\n",
      "    0.34146341463414637\n",
      "\"\"\", stored examples: 0)\n"
     ]
    }
   ],
   "source": [
    "import evaluate\n",
    "\n",
    "data_collator = DataCollatorCTCWithPadding(processor=processor, padding=True)\n",
    "\n",
    "# Evaluation metrics: WER, CER, and MER\n",
    "wer_metric = evaluate.load(\"wer\")\n",
    "cer_metric = evaluate.load(\"cer\")\n",
    "\n",
    "print(wer_metric)\n",
    "print(cer_metric)\n",
    "\n",
    "def compute_metrics(pred):\n",
    "    pred_logits = pred.predictions\n",
    "    pred_ids = np.argmax(pred_logits, axis=-1)\n",
    "\n",
    "    pred.label_ids[pred.label_ids == -100] = processor.tokenizer.pad_token_id\n",
    "\n",
    "    pred_str = processor.batch_decode(pred_ids)\n",
    "    # we do not want to group tokens when computing the metrics\n",
    "    label_str = processor.batch_decode(pred.label_ids, group_tokens=False)\n",
    "\n",
    "    wer = wer_metric.compute(predictions=pred_str, references=label_str)\n",
    "    cer = cer_metric.compute(predictions=pred_str, references=label_str)\n",
    "\n",
    "    return {\"wer\": wer, \"cer\": cer}"
   ]
  },
  {
   "cell_type": "code",
   "execution_count": 13,
   "metadata": {},
   "outputs": [
    {
     "name": "stderr",
     "output_type": "stream",
     "text": [
      "C:\\Users\\LOUIS\\AppData\\Roaming\\Python\\Python312\\site-packages\\transformers\\configuration_utils.py:306: UserWarning: Passing `gradient_checkpointing` to a config initialization is deprecated and will be removed in v5 Transformers. Using `model.gradient_checkpointing_enable()` instead, or if you are using the `Trainer` API, pass `gradient_checkpointing=True` in your `TrainingArguments`.\n",
      "  warnings.warn(\n",
      "Some weights of Wav2Vec2ForCTC were not initialized from the model checkpoint at facebook/wav2vec2-base and are newly initialized: ['lm_head.bias', 'lm_head.weight']\n",
      "You should probably TRAIN this model on a down-stream task to be able to use it for predictions and inference.\n"
     ]
    }
   ],
   "source": [
    "from transformers import Wav2Vec2ForCTC\n",
    "\n",
    "model = Wav2Vec2ForCTC.from_pretrained(\n",
    "    \"facebook/wav2vec2-base\",\n",
    "    ctc_loss_reduction=\"mean\",\n",
    "    pad_token_id=processor.tokenizer.pad_token_id,      # Ensure pad token is set\n",
    "    vocab_size=processor.tokenizer.vocab_size           # Match tokenizer vocab size\n",
    ")\n",
    "\n",
    "# Ensure blank token is the last ID\n",
    "model.config.blank_token_id = processor.tokenizer.pad_token_id"
   ]
  },
  {
   "cell_type": "code",
   "execution_count": 14,
   "metadata": {},
   "outputs": [],
   "source": [
    "model.freeze_feature_encoder()"
   ]
  },
  {
   "cell_type": "code",
   "execution_count": 15,
   "metadata": {},
   "outputs": [
    {
     "name": "stdout",
     "output_type": "stream",
     "text": [
      "WARNING:tensorflow:From c:\\Python312\\Lib\\site-packages\\tf_keras\\src\\losses.py:2976: The name tf.losses.sparse_softmax_cross_entropy is deprecated. Please use tf.compat.v1.losses.sparse_softmax_cross_entropy instead.\n",
      "\n"
     ]
    }
   ],
   "source": [
    "from transformers import TrainingArguments\n",
    "\n",
    "training_args = TrainingArguments(\n",
    "  output_dir=\"../results/trainingResults\",\n",
    "  group_by_length=True,\n",
    "  per_device_train_batch_size=15,\n",
    "  eval_strategy=\"steps\",\n",
    "  num_train_epochs=10,\n",
    "  fp16=True,\n",
    "  gradient_checkpointing=True, \n",
    "  save_steps=500,\n",
    "  eval_steps=500,\n",
    "  logging_steps=100,\n",
    "  learning_rate=1e-4,\n",
    "  weight_decay=0.005,\n",
    "  warmup_steps=1000,\n",
    "  save_total_limit=2,\n",
    ")"
   ]
  },
  {
   "cell_type": "code",
   "execution_count": 16,
   "metadata": {},
   "outputs": [
    {
     "name": "stderr",
     "output_type": "stream",
     "text": [
      "C:\\Users\\LOUIS\\AppData\\Local\\Temp\\ipykernel_992\\1538773598.py:3: FutureWarning: `tokenizer` is deprecated and will be removed in version 5.0.0 for `Trainer.__init__`. Use `processing_class` instead.\n",
      "  trainer = Trainer(\n"
     ]
    }
   ],
   "source": [
    "from transformers import Trainer\n",
    "\n",
    "trainer = Trainer(\n",
    "    model=model,\n",
    "    data_collator=data_collator,\n",
    "    args=training_args,\n",
    "    compute_metrics=compute_metrics,\n",
    "    train_dataset=dataset,\n",
    "    eval_dataset=dataset.select(range(501,600)),\n",
    "    tokenizer=processor.feature_extractor,\n",
    ")"
   ]
  },
  {
   "cell_type": "code",
   "execution_count": 17,
   "metadata": {},
   "outputs": [
    {
     "data": {
      "application/vnd.jupyter.widget-view+json": {
       "model_id": "ea5efb564ea34319a8b0c62d32d783d5",
       "version_major": 2,
       "version_minor": 0
      },
      "text/plain": [
       "  0%|          | 0/1930 [00:00<?, ?it/s]"
      ]
     },
     "metadata": {},
     "output_type": "display_data"
    },
    {
     "name": "stderr",
     "output_type": "stream",
     "text": [
      "C:\\Users\\LOUIS\\AppData\\Roaming\\Python\\Python312\\site-packages\\transformers\\models\\wav2vec2\\processing_wav2vec2.py:174: UserWarning: `as_target_processor` is deprecated and will be removed in v5 of Transformers. You can process your labels by using the argument `text` of the regular `__call__` method (either in the same call as your audio inputs, or in a separate call.\n",
      "  warnings.warn(\n"
     ]
    },
    {
     "name": "stdout",
     "output_type": "stream",
     "text": [
      "{'loss': 16.056, 'grad_norm': 5.04547119140625, 'learning_rate': 1e-05, 'epoch': 0.52}\n",
      "{'loss': 3.9266, 'grad_norm': 2.114565372467041, 'learning_rate': 2e-05, 'epoch': 1.04}\n",
      "{'loss': 3.3656, 'grad_norm': 1.6932415962219238, 'learning_rate': 3e-05, 'epoch': 1.55}\n",
      "{'loss': 3.1222, 'grad_norm': 0.7612019777297974, 'learning_rate': 4e-05, 'epoch': 2.07}\n"
     ]
    },
    {
     "name": "stderr",
     "output_type": "stream",
     "text": [
      "Trainer.tokenizer is now deprecated. You should use Trainer.processing_class instead.\n",
      "Trainer.tokenizer is now deprecated. You should use Trainer.processing_class instead.\n"
     ]
    },
    {
     "name": "stdout",
     "output_type": "stream",
     "text": [
      "{'loss': 3.0622, 'grad_norm': 1.3215218782424927, 'learning_rate': 5e-05, 'epoch': 2.59}\n"
     ]
    },
    {
     "data": {
      "application/vnd.jupyter.widget-view+json": {
       "model_id": "c2fc3cf4c5634b1d9e260d81c31ef72a",
       "version_major": 2,
       "version_minor": 0
      },
      "text/plain": [
       "  0%|          | 0/13 [00:00<?, ?it/s]"
      ]
     },
     "metadata": {},
     "output_type": "display_data"
    },
    {
     "name": "stdout",
     "output_type": "stream",
     "text": [
      "{'eval_loss': 3.106966257095337, 'eval_wer': 1.0, 'eval_cer': 1.0, 'eval_runtime': 19.7211, 'eval_samples_per_second': 5.02, 'eval_steps_per_second': 0.659, 'epoch': 2.59}\n"
     ]
    },
    {
     "name": "stderr",
     "output_type": "stream",
     "text": [
      "C:\\Users\\LOUIS\\AppData\\Roaming\\Python\\Python312\\site-packages\\transformers\\models\\wav2vec2\\processing_wav2vec2.py:174: UserWarning: `as_target_processor` is deprecated and will be removed in v5 of Transformers. You can process your labels by using the argument `text` of the regular `__call__` method (either in the same call as your audio inputs, or in a separate call.\n",
      "  warnings.warn(\n"
     ]
    },
    {
     "name": "stdout",
     "output_type": "stream",
     "text": [
      "{'loss': 2.9822, 'grad_norm': 0.6667632460594177, 'learning_rate': 6e-05, 'epoch': 3.11}\n",
      "{'loss': 2.9849, 'grad_norm': 1.7284296751022339, 'learning_rate': 7e-05, 'epoch': 3.63}\n",
      "{'loss': 2.9444, 'grad_norm': 0.475057989358902, 'learning_rate': 8e-05, 'epoch': 4.15}\n",
      "{'loss': 2.8906, 'grad_norm': 1.8983972072601318, 'learning_rate': 9e-05, 'epoch': 4.66}\n"
     ]
    },
    {
     "name": "stderr",
     "output_type": "stream",
     "text": [
      "Trainer.tokenizer is now deprecated. You should use Trainer.processing_class instead.\n",
      "Trainer.tokenizer is now deprecated. You should use Trainer.processing_class instead.\n"
     ]
    },
    {
     "name": "stdout",
     "output_type": "stream",
     "text": [
      "{'loss': 2.2207, 'grad_norm': 6.36513614654541, 'learning_rate': 0.0001, 'epoch': 5.18}\n"
     ]
    },
    {
     "data": {
      "application/vnd.jupyter.widget-view+json": {
       "model_id": "b7066c5c42a74cd9b61eec28ddb52322",
       "version_major": 2,
       "version_minor": 0
      },
      "text/plain": [
       "  0%|          | 0/13 [00:00<?, ?it/s]"
      ]
     },
     "metadata": {},
     "output_type": "display_data"
    },
    {
     "name": "stdout",
     "output_type": "stream",
     "text": [
      "{'eval_loss': 1.623173713684082, 'eval_wer': 0.9963702359346642, 'eval_cer': 0.4419551934826884, 'eval_runtime': 20.3483, 'eval_samples_per_second': 4.865, 'eval_steps_per_second': 0.639, 'epoch': 5.18}\n"
     ]
    },
    {
     "name": "stderr",
     "output_type": "stream",
     "text": [
      "C:\\Users\\LOUIS\\AppData\\Roaming\\Python\\Python312\\site-packages\\transformers\\models\\wav2vec2\\processing_wav2vec2.py:174: UserWarning: `as_target_processor` is deprecated and will be removed in v5 of Transformers. You can process your labels by using the argument `text` of the regular `__call__` method (either in the same call as your audio inputs, or in a separate call.\n",
      "  warnings.warn(\n"
     ]
    },
    {
     "name": "stdout",
     "output_type": "stream",
     "text": [
      "{'loss': 1.6034, 'grad_norm': 3.404778480529785, 'learning_rate': 8.924731182795699e-05, 'epoch': 5.7}\n",
      "{'loss': 1.3315, 'grad_norm': 7.657089710235596, 'learning_rate': 7.849462365591398e-05, 'epoch': 6.22}\n",
      "{'loss': 1.1388, 'grad_norm': 6.335774898529053, 'learning_rate': 6.774193548387096e-05, 'epoch': 6.74}\n",
      "{'loss': 1.0105, 'grad_norm': 1.8491891622543335, 'learning_rate': 5.6989247311827965e-05, 'epoch': 7.25}\n"
     ]
    },
    {
     "name": "stderr",
     "output_type": "stream",
     "text": [
      "Trainer.tokenizer is now deprecated. You should use Trainer.processing_class instead.\n",
      "Trainer.tokenizer is now deprecated. You should use Trainer.processing_class instead.\n"
     ]
    },
    {
     "name": "stdout",
     "output_type": "stream",
     "text": [
      "{'loss': 0.8962, 'grad_norm': 1.3926045894622803, 'learning_rate': 4.6236559139784944e-05, 'epoch': 7.77}\n"
     ]
    },
    {
     "data": {
      "application/vnd.jupyter.widget-view+json": {
       "model_id": "51252c938be8448cb5c16fb2f955e699",
       "version_major": 2,
       "version_minor": 0
      },
      "text/plain": [
       "  0%|          | 0/13 [00:00<?, ?it/s]"
      ]
     },
     "metadata": {},
     "output_type": "display_data"
    },
    {
     "name": "stdout",
     "output_type": "stream",
     "text": [
      "{'eval_loss': 0.6198934316635132, 'eval_wer': 0.6061705989110708, 'eval_cer': 0.14697895451459606, 'eval_runtime': 19.0176, 'eval_samples_per_second': 5.206, 'eval_steps_per_second': 0.684, 'epoch': 7.77}\n"
     ]
    },
    {
     "name": "stderr",
     "output_type": "stream",
     "text": [
      "C:\\Users\\LOUIS\\AppData\\Roaming\\Python\\Python312\\site-packages\\transformers\\models\\wav2vec2\\processing_wav2vec2.py:174: UserWarning: `as_target_processor` is deprecated and will be removed in v5 of Transformers. You can process your labels by using the argument `text` of the regular `__call__` method (either in the same call as your audio inputs, or in a separate call.\n",
      "  warnings.warn(\n"
     ]
    },
    {
     "name": "stdout",
     "output_type": "stream",
     "text": [
      "{'loss': 0.8398, 'grad_norm': 1.906684398651123, 'learning_rate': 3.548387096774194e-05, 'epoch': 8.29}\n",
      "{'loss': 0.7679, 'grad_norm': 2.2868077754974365, 'learning_rate': 2.4731182795698928e-05, 'epoch': 8.81}\n",
      "{'loss': 0.7246, 'grad_norm': 2.1066315174102783, 'learning_rate': 1.3978494623655914e-05, 'epoch': 9.33}\n",
      "{'loss': 0.6844, 'grad_norm': 1.978676438331604, 'learning_rate': 3.225806451612903e-06, 'epoch': 9.84}\n",
      "{'train_runtime': 10991.2117, 'train_samples_per_second': 2.626, 'train_steps_per_second': 0.176, 'train_loss': 2.7357519337550347, 'epoch': 10.0}\n"
     ]
    },
    {
     "data": {
      "text/plain": [
       "TrainOutput(global_step=1930, training_loss=2.7357519337550347, metrics={'train_runtime': 10991.2117, 'train_samples_per_second': 2.626, 'train_steps_per_second': 0.176, 'total_flos': 7.102520233114181e+17, 'train_loss': 2.7357519337550347, 'epoch': 10.0})"
      ]
     },
     "execution_count": 17,
     "metadata": {},
     "output_type": "execute_result"
    }
   ],
   "source": [
    "trainer.train()"
   ]
  },
  {
   "cell_type": "code",
   "execution_count": 18,
   "metadata": {},
   "outputs": [
    {
     "name": "stdout",
     "output_type": "stream",
     "text": [
      "ah aku si semua makanan suka ya\n",
      "Transcription: ['kallaku si sema makanan suka ya']\n"
     ]
    },
    {
     "name": "stderr",
     "output_type": "stream",
     "text": [
      "C:\\Users\\LOUIS\\AppData\\Roaming\\Python\\Python312\\site-packages\\torch\\utils\\checkpoint.py:87: UserWarning: None of the inputs have requires_grad=True. Gradients will be None\n",
      "  warnings.warn(\n"
     ]
    }
   ],
   "source": [
    "# Example audio file\n",
    "test_audio = dataset[800][\"audio\"]  # Replace with your test audio data\n",
    "print(dataset[800]['text'])\n",
    "# Process the audio input\n",
    "input_values = processor(test_audio, sampling_rate=16000, return_tensors=\"pt\").input_values\n",
    "\n",
    "# Move input to GPU if available\n",
    "if torch.cuda.is_available():\n",
    "    input_values = input_values.to(\"cuda\")\n",
    "    model.to(\"cuda\")\n",
    "    print(\"There is cuda!\")\n",
    "\n",
    "# Get the model's predictions\n",
    "with torch.no_grad():\n",
    "    logits = model(input_values).logits\n",
    "\n",
    "# Decode the predictions to text\n",
    "predicted_ids = torch.argmax(logits, dim=-1)\n",
    "transcription = processor.batch_decode(predicted_ids)\n",
    "\n",
    "print(\"Transcription:\", transcription)\n"
   ]
  },
  {
   "cell_type": "code",
   "execution_count": 23,
   "metadata": {},
   "outputs": [
    {
     "data": {
      "text/plain": [
       "[]"
      ]
     },
     "execution_count": 23,
     "metadata": {},
     "output_type": "execute_result"
    }
   ],
   "source": [
    "trainer.save_model(\"../savedModel\")\n",
    "processor.save_pretrained(\"../savedModel\")"
   ]
  }
 ],
 "metadata": {
  "kernelspec": {
   "display_name": "Python 3",
   "language": "python",
   "name": "python3"
  },
  "language_info": {
   "codemirror_mode": {
    "name": "ipython",
    "version": 3
   },
   "file_extension": ".py",
   "mimetype": "text/x-python",
   "name": "python",
   "nbconvert_exporter": "python",
   "pygments_lexer": "ipython3",
   "version": "3.12.6"
  }
 },
 "nbformat": 4,
 "nbformat_minor": 2
}
