{
 "cells": [
  {
   "cell_type": "code",
   "execution_count": 1,
   "metadata": {},
   "outputs": [],
   "source": [
    "from datasets import Dataset\n",
    "import random\n",
    "import pandas as pd\n",
    "import re\n",
    "import json\n",
    "import IPython.display as ipd\n",
    "import numpy as np\n",
    "from transformers import Wav2Vec2FeatureExtractor, Wav2Vec2CTCTokenizer, Wav2Vec2Processor\n",
    "import torch"
   ]
  },
  {
   "cell_type": "code",
   "execution_count": 2,
   "metadata": {},
   "outputs": [
    {
     "data": {
      "text/plain": [
       "Dataset({\n",
       "    features: ['audio', 'text'],\n",
       "    num_rows: 2947\n",
       "})"
      ]
     },
     "execution_count": 2,
     "metadata": {},
     "output_type": "execute_result"
    }
   ],
   "source": [
    "reloaded_dataset = Dataset.load_from_disk(\"../results/WAV2VEC2_DATASET\")  # Load the dataset from the disk\n",
    "reloaded_dataset = reloaded_dataset.remove_columns([\"filename\"]) # Remove the filename column\n",
    "reloaded_dataset"
   ]
  },
  {
   "cell_type": "code",
   "execution_count": 3,
   "metadata": {},
   "outputs": [
    {
     "data": {
      "text/plain": [
       "Dataset({\n",
       "    features: ['audio', 'text'],\n",
       "    num_rows: 2886\n",
       "})"
      ]
     },
     "execution_count": 3,
     "metadata": {},
     "output_type": "execute_result"
    }
   ],
   "source": [
    "# Annotations to exclude\n",
    "annotations_to_exclude = [\n",
    "    \"[*]\", \"[LAUGHTER]\", \"[SONANT]\", \"[MUSIC]\", \"[SYSTEM]\", \"[ENS]\", \"[UNK]\", \"+\"\n",
    "]\n",
    "\n",
    "# Filter out annotations\n",
    "filtered_dataset = reloaded_dataset.filter(\n",
    "    lambda example: not any(annotation in example[\"text\"] for annotation in annotations_to_exclude)\n",
    ")\n",
    "\n",
    "filtered_dataset"
   ]
  },
  {
   "cell_type": "code",
   "execution_count": 4,
   "metadata": {},
   "outputs": [],
   "source": [
    "def convert_to_proper_case(text):\n",
    "    # Replace hyphens with spaces\n",
    "    text = re.sub(r'-', ' ', text)\n",
    "    \n",
    "    # Remove periods, commas, and apostrophes\n",
    "    text = re.sub(r'[.,\\']', '', text)\n",
    "\n",
    "    # Use regular expression to match words\n",
    "    text = re.sub(r'\\b([A-Za-z]{2,})\\b', lambda match: match.group(1).lower(), text)\n",
    "    \n",
    "    return text\n",
    "\n",
    "filtered_dataset = filtered_dataset.map(\n",
    "    lambda example: {**example, 'text': convert_to_proper_case(example['text'])}\n",
    ")\n"
   ]
  },
  {
   "cell_type": "code",
   "execution_count": 5,
   "metadata": {},
   "outputs": [
    {
     "data": {
      "text/html": [
       "<div>\n",
       "<style scoped>\n",
       "    .dataframe tbody tr th:only-of-type {\n",
       "        vertical-align: middle;\n",
       "    }\n",
       "\n",
       "    .dataframe tbody tr th {\n",
       "        vertical-align: top;\n",
       "    }\n",
       "\n",
       "    .dataframe thead th {\n",
       "        text-align: right;\n",
       "    }\n",
       "</style>\n",
       "<table border=\"1\" class=\"dataframe\">\n",
       "  <thead>\n",
       "    <tr style=\"text-align: right;\">\n",
       "      <th></th>\n",
       "      <th>audio</th>\n",
       "      <th>text</th>\n",
       "    </tr>\n",
       "  </thead>\n",
       "  <tbody>\n",
       "    <tr>\n",
       "      <th>0</th>\n",
       "      <td>[-511.0000000000002, -515.9999999999998, -513....</td>\n",
       "      <td>halo mishela</td>\n",
       "    </tr>\n",
       "    <tr>\n",
       "      <th>1</th>\n",
       "      <td>[-12.000000000000083, -11.99999999999995, -13....</td>\n",
       "      <td>gimana kabarnya di sana</td>\n",
       "    </tr>\n",
       "    <tr>\n",
       "      <th>2</th>\n",
       "      <td>[-6.000000000000045, -5.939557236068103e-14, 4...</td>\n",
       "      <td>wes sendiri juga baik baik aja</td>\n",
       "    </tr>\n",
       "    <tr>\n",
       "      <th>3</th>\n",
       "      <td>[-16.99999999999999, -19.000000000000046, -18....</td>\n",
       "      <td>terus</td>\n",
       "    </tr>\n",
       "    <tr>\n",
       "      <th>4</th>\n",
       "      <td>[-8.000000000000075, -4.999999999999978, -4.99...</td>\n",
       "      <td>gimana</td>\n",
       "    </tr>\n",
       "    <tr>\n",
       "      <th>...</th>\n",
       "      <td>...</td>\n",
       "      <td>...</td>\n",
       "    </tr>\n",
       "    <tr>\n",
       "      <th>2881</th>\n",
       "      <td>[-31.999999999998757, -11.000000000000234, -8....</td>\n",
       "      <td>iya</td>\n",
       "    </tr>\n",
       "    <tr>\n",
       "      <th>2882</th>\n",
       "      <td>[-14.999999999999968, -25.000000000000497, -33...</td>\n",
       "      <td>oke</td>\n",
       "    </tr>\n",
       "    <tr>\n",
       "      <th>2883</th>\n",
       "      <td>[32.999999999999645, 16.00000000000048, 20.000...</td>\n",
       "      <td>dah</td>\n",
       "    </tr>\n",
       "    <tr>\n",
       "      <th>2884</th>\n",
       "      <td>[-44.00000000000009, -34.9999999999996, -36.99...</td>\n",
       "      <td>dah</td>\n",
       "    </tr>\n",
       "    <tr>\n",
       "      <th>2885</th>\n",
       "      <td>[61.999999999999986, 65.00000000000004, 91.000...</td>\n",
       "      <td>dah</td>\n",
       "    </tr>\n",
       "  </tbody>\n",
       "</table>\n",
       "<p>2886 rows × 2 columns</p>\n",
       "</div>"
      ],
      "text/plain": [
       "                                                  audio  \\\n",
       "0     [-511.0000000000002, -515.9999999999998, -513....   \n",
       "1     [-12.000000000000083, -11.99999999999995, -13....   \n",
       "2     [-6.000000000000045, -5.939557236068103e-14, 4...   \n",
       "3     [-16.99999999999999, -19.000000000000046, -18....   \n",
       "4     [-8.000000000000075, -4.999999999999978, -4.99...   \n",
       "...                                                 ...   \n",
       "2881  [-31.999999999998757, -11.000000000000234, -8....   \n",
       "2882  [-14.999999999999968, -25.000000000000497, -33...   \n",
       "2883  [32.999999999999645, 16.00000000000048, 20.000...   \n",
       "2884  [-44.00000000000009, -34.9999999999996, -36.99...   \n",
       "2885  [61.999999999999986, 65.00000000000004, 91.000...   \n",
       "\n",
       "                                text  \n",
       "0                       halo mishela  \n",
       "1            gimana kabarnya di sana  \n",
       "2     wes sendiri juga baik baik aja  \n",
       "3                              terus  \n",
       "4                             gimana  \n",
       "...                              ...  \n",
       "2881                             iya  \n",
       "2882                             oke  \n",
       "2883                             dah  \n",
       "2884                             dah  \n",
       "2885                             dah  \n",
       "\n",
       "[2886 rows x 2 columns]"
      ]
     },
     "execution_count": 5,
     "metadata": {},
     "output_type": "execute_result"
    }
   ],
   "source": [
    "df = pd.DataFrame(filtered_dataset)\n",
    "df"
   ]
  },
  {
   "cell_type": "code",
   "execution_count": 6,
   "metadata": {},
   "outputs": [
    {
     "data": {
      "text/plain": [
       "{' ': 0,\n",
       " 'A': 1,\n",
       " 'C': 2,\n",
       " 'D': 3,\n",
       " 'E': 4,\n",
       " 'F': 5,\n",
       " 'G': 6,\n",
       " 'H': 7,\n",
       " 'I': 8,\n",
       " 'K': 9,\n",
       " 'M': 10,\n",
       " 'N': 11,\n",
       " 'O': 12,\n",
       " 'P': 13,\n",
       " 'R': 14,\n",
       " 'S': 15,\n",
       " 'T': 16,\n",
       " 'U': 17,\n",
       " 'V': 18,\n",
       " 'W': 19,\n",
       " 'Y': 20,\n",
       " 'a': 21,\n",
       " 'b': 22,\n",
       " 'c': 23,\n",
       " 'd': 24,\n",
       " 'e': 25,\n",
       " 'f': 26,\n",
       " 'g': 27,\n",
       " 'h': 28,\n",
       " 'i': 29,\n",
       " 'j': 30,\n",
       " 'k': 31,\n",
       " 'l': 32,\n",
       " 'm': 33,\n",
       " 'n': 34,\n",
       " 'o': 35,\n",
       " 'p': 36,\n",
       " 'q': 37,\n",
       " 'r': 38,\n",
       " 's': 39,\n",
       " 't': 40,\n",
       " 'u': 41,\n",
       " 'v': 42,\n",
       " 'w': 43,\n",
       " 'x': 44,\n",
       " 'y': 45,\n",
       " 'z': 46}"
      ]
     },
     "execution_count": 6,
     "metadata": {},
     "output_type": "execute_result"
    }
   ],
   "source": [
    "# Define the function to compute vocab\n",
    "def extract_all_chars(dataset):\n",
    "    # Concatenate all text into a single string and get unique characters\n",
    "    all_text = \" \".join(dataset[\"text\"])\n",
    "    vocab = sorted(set(all_text))\n",
    "    return vocab\n",
    "\n",
    "# Extract vocabulary\n",
    "vocab = extract_all_chars(filtered_dataset)\n",
    "vocab_list = list(vocab)\n",
    "\n",
    "vocab_dict = {v: k for k, v in enumerate(vocab_list)}\n",
    "vocab_dict"
   ]
  },
  {
   "cell_type": "code",
   "execution_count": 7,
   "metadata": {},
   "outputs": [
    {
     "data": {
      "text/plain": [
       "{' ': 0,\n",
       " 'A': 1,\n",
       " 'C': 2,\n",
       " 'D': 3,\n",
       " 'E': 4,\n",
       " 'F': 5,\n",
       " 'G': 6,\n",
       " 'H': 7,\n",
       " 'I': 8,\n",
       " 'K': 9,\n",
       " 'M': 10,\n",
       " 'N': 11,\n",
       " 'O': 12,\n",
       " 'P': 13,\n",
       " 'R': 14,\n",
       " 'S': 15,\n",
       " 'T': 16,\n",
       " 'U': 17,\n",
       " 'V': 18,\n",
       " 'W': 19,\n",
       " 'Y': 20,\n",
       " 'a': 21,\n",
       " 'b': 22,\n",
       " 'c': 23,\n",
       " 'd': 24,\n",
       " 'e': 25,\n",
       " 'f': 26,\n",
       " 'g': 27,\n",
       " 'h': 28,\n",
       " 'i': 29,\n",
       " 'j': 30,\n",
       " 'k': 31,\n",
       " 'l': 32,\n",
       " 'm': 33,\n",
       " 'n': 34,\n",
       " 'o': 35,\n",
       " 'p': 36,\n",
       " 'q': 37,\n",
       " 'r': 38,\n",
       " 's': 39,\n",
       " 't': 40,\n",
       " 'u': 41,\n",
       " 'v': 42,\n",
       " 'w': 43,\n",
       " 'x': 44,\n",
       " 'y': 45,\n",
       " 'z': 46,\n",
       " '[UNK]': 47,\n",
       " '[PAD]': 48}"
      ]
     },
     "execution_count": 7,
     "metadata": {},
     "output_type": "execute_result"
    }
   ],
   "source": [
    "vocab_dict[\"[UNK]\"] = len(vocab_dict)\n",
    "vocab_dict[\"[PAD]\"] = len(vocab_dict)\n",
    "vocab_dict"
   ]
  },
  {
   "cell_type": "code",
   "execution_count": 8,
   "metadata": {},
   "outputs": [],
   "source": [
    "with open('../results/vocab.json', 'w') as vocab_file:\n",
    "    json.dump(vocab_dict, vocab_file)"
   ]
  },
  {
   "cell_type": "code",
   "execution_count": 9,
   "metadata": {},
   "outputs": [
    {
     "name": "stdout",
     "output_type": "stream",
     "text": [
      "kenapa\n"
     ]
    },
    {
     "data": {
      "text/html": [
       "\n",
       "                <audio  controls=\"controls\" autoplay=\"autoplay\">\n",
       "                    <source src=\"data:audio/wav;base64,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\" type=\"audio/wav\" />\n",
       "                    Your browser does not support the audio element.\n",
       "                </audio>\n",
       "              "
      ],
      "text/plain": [
       "<IPython.lib.display.Audio object>"
      ]
     },
     "execution_count": 9,
     "metadata": {},
     "output_type": "execute_result"
    }
   ],
   "source": [
    "rand_int = random.randint(0, len(reloaded_dataset))\n",
    "\n",
    "print(reloaded_dataset[rand_int][\"text\"])\n",
    "ipd.Audio(data=np.asarray(reloaded_dataset[rand_int][\"audio\"]), autoplay=True, rate=16000)\n"
   ]
  },
  {
   "cell_type": "code",
   "execution_count": 10,
   "metadata": {},
   "outputs": [
    {
     "data": {
      "application/vnd.jupyter.widget-view+json": {
       "model_id": "5a2b0e13e77941ebb8d754c8d66dc43c",
       "version_major": 2,
       "version_minor": 0
      },
      "text/plain": [
       "Map:   0%|          | 0/2886 [00:00<?, ? examples/s]"
      ]
     },
     "metadata": {},
     "output_type": "display_data"
    },
    {
     "name": "stderr",
     "output_type": "stream",
     "text": [
      "C:\\Users\\LOUIS\\AppData\\Roaming\\Python\\Python312\\site-packages\\transformers\\models\\wav2vec2\\processing_wav2vec2.py:174: UserWarning: `as_target_processor` is deprecated and will be removed in v5 of Transformers. You can process your labels by using the argument `text` of the regular `__call__` method (either in the same call as your audio inputs, or in a separate call.\n",
      "  warnings.warn(\n"
     ]
    },
    {
     "data": {
      "text/plain": [
       "Dataset({\n",
       "    features: ['audio', 'text', 'input_values', 'labels'],\n",
       "    num_rows: 2886\n",
       "})"
      ]
     },
     "execution_count": 10,
     "metadata": {},
     "output_type": "execute_result"
    }
   ],
   "source": [
    "feature_extractor = Wav2Vec2FeatureExtractor(\n",
    "    feature_size=1, sampling_rate=16000, padding_value=0.0, do_normalize=True, return_attention_mask=False\n",
    ")\n",
    "\n",
    "tokenizer = Wav2Vec2CTCTokenizer(\n",
    "    \"../results/vocab.json\", unk_token=\"[UNK]\", pad_token=\"[PAD]\", word_delimiter_token=\" \"\n",
    ")\n",
    "\n",
    "processor = Wav2Vec2Processor(feature_extractor=feature_extractor, tokenizer=tokenizer)\n",
    "\n",
    "def prepare_dataset(batch):\n",
    "    \n",
    "    audio = batch[\"audio\"]\n",
    "    \n",
    "    # batched output is \"un-batched\" to ensure mapping is correct\n",
    "    batch[\"input_values\"] = processor(audio, sampling_rate=16000).input_values[0]\n",
    "    \n",
    "    with processor.as_target_processor():\n",
    "        batch[\"labels\"] = processor(batch[\"text\"]).input_ids\n",
    "    \n",
    "    return batch\n",
    "\n",
    "# Apply the function with multiple processes\n",
    "dataset = filtered_dataset.map(prepare_dataset)\n",
    "dataset"
   ]
  },
  {
   "cell_type": "code",
   "execution_count": 11,
   "metadata": {},
   "outputs": [],
   "source": [
    "from dataclasses import dataclass, field\n",
    "from typing import Any, Dict, List, Optional, Union\n",
    "\n",
    "@dataclass\n",
    "class DataCollatorCTCWithPadding:\n",
    "\n",
    "    processor: Wav2Vec2Processor\n",
    "    padding: Union[bool, str] = True\n",
    "    max_length: Optional[int] = None\n",
    "    max_length_labels: Optional[int] = None\n",
    "    pad_to_multiple_of: Optional[int] = None\n",
    "    pad_to_multiple_of_labels: Optional[int] = None\n",
    "\n",
    "    def __call__(self, features: List[Dict[str, Union[List[int], torch.Tensor]]]) -> Dict[str, torch.Tensor]:\n",
    "        # Split inputs and labels for separate padding\n",
    "        input_features = [{\"input_values\": feature[\"input_values\"]} for feature in features]\n",
    "        label_features = [{\"input_ids\": feature[\"labels\"]} for feature in features]\n",
    "\n",
    "        # Pad input features\n",
    "        batch = self.processor.pad(\n",
    "            input_features,\n",
    "            padding=self.padding,\n",
    "            max_length=self.max_length,\n",
    "            pad_to_multiple_of=self.pad_to_multiple_of,\n",
    "            return_tensors=\"pt\",\n",
    "        )\n",
    "\n",
    "        # Pad labels as target processor\n",
    "        with self.processor.as_target_processor():\n",
    "            labels_batch = self.processor.pad(\n",
    "                label_features,\n",
    "                padding=self.padding,\n",
    "                max_length=self.max_length_labels,\n",
    "                pad_to_multiple_of=self.pad_to_multiple_of_labels,\n",
    "                return_tensors=\"pt\",\n",
    "            )\n",
    "\n",
    "        # Handle label padding (-100 for ignored loss computation)\n",
    "        if \"attention_mask\" in labels_batch:\n",
    "            labels = labels_batch[\"input_ids\"].masked_fill(labels_batch.attention_mask.ne(1), -100)\n",
    "        else:\n",
    "            labels = labels_batch[\"input_ids\"].masked_fill(\n",
    "                labels_batch[\"input_ids\"] == self.processor.tokenizer.pad_token_id, -100\n",
    "            )\n",
    "\n",
    "        # Add labels to the batch\n",
    "        batch[\"labels\"] = labels\n",
    "\n",
    "        return batch\n"
   ]
  },
  {
   "cell_type": "code",
   "execution_count": 13,
   "metadata": {},
   "outputs": [
    {
     "name": "stdout",
     "output_type": "stream",
     "text": [
      "EvaluationModule(name: \"wer\", module_type: \"metric\", features: {'predictions': Value(dtype='string', id='sequence'), 'references': Value(dtype='string', id='sequence')}, usage: \"\"\"\n",
      "Compute WER score of transcribed segments against references.\n",
      "\n",
      "Args:\n",
      "    references: List of references for each speech input.\n",
      "    predictions: List of transcriptions to score.\n",
      "    concatenate_texts (bool, default=False): Whether to concatenate all input texts or compute WER iteratively.\n",
      "\n",
      "Returns:\n",
      "    (float): the word error rate\n",
      "\n",
      "Examples:\n",
      "\n",
      "    >>> predictions = [\"this is the prediction\", \"there is an other sample\"]\n",
      "    >>> references = [\"this is the reference\", \"there is another one\"]\n",
      "    >>> wer = evaluate.load(\"wer\")\n",
      "    >>> wer_score = wer.compute(predictions=predictions, references=references)\n",
      "    >>> print(wer_score)\n",
      "    0.5\n",
      "\"\"\", stored examples: 0)\n",
      "EvaluationModule(name: \"cer\", module_type: \"metric\", features: {'predictions': Value(dtype='string', id='sequence'), 'references': Value(dtype='string', id='sequence')}, usage: \"\"\"\n",
      "Computes CER score of transcribed segments against references.\n",
      "Args:\n",
      "    references: list of references for each speech input.\n",
      "    predictions: list of transcribtions to score.\n",
      "    concatenate_texts: Whether or not to concatenate sentences before evaluation, set to True for more accurate result.\n",
      "Returns:\n",
      "    (float): the character error rate\n",
      "\n",
      "Examples:\n",
      "\n",
      "    >>> predictions = [\"this is the prediction\", \"there is an other sample\"]\n",
      "    >>> references = [\"this is the reference\", \"there is another one\"]\n",
      "    >>> cer = evaluate.load(\"cer\")\n",
      "    >>> cer_score = cer.compute(predictions=predictions, references=references)\n",
      "    >>> print(cer_score)\n",
      "    0.34146341463414637\n",
      "\"\"\", stored examples: 0)\n"
     ]
    }
   ],
   "source": [
    "import evaluate\n",
    "\n",
    "data_collator = DataCollatorCTCWithPadding(processor=processor, padding=True)\n",
    "\n",
    "# Evaluation metrics: WER, CER, and MER\n",
    "wer_metric = evaluate.load(\"wer\")\n",
    "cer_metric = evaluate.load(\"cer\")\n",
    "\n",
    "print(wer_metric)\n",
    "print(cer_metric)\n",
    "\n",
    "def compute_metrics(pred):\n",
    "    pred_logits = pred.predictions\n",
    "    pred_ids = np.argmax(pred_logits, axis=-1)\n",
    "\n",
    "    pred.label_ids[pred.label_ids == -100] = processor.tokenizer.pad_token_id\n",
    "\n",
    "    pred_str = processor.batch_decode(pred_ids)\n",
    "    # we do not want to group tokens when computing the metrics\n",
    "    label_str = processor.batch_decode(pred.label_ids, group_tokens=False)\n",
    "\n",
    "    wer = wer_metric.compute(predictions=pred_str, references=label_str)\n",
    "    cer = cer_metric.compute(predictions=pred_str, references=label_str)\n",
    "\n",
    "    return {\"wer\": wer, \"cer\": cer}"
   ]
  },
  {
   "cell_type": "code",
   "execution_count": 14,
   "metadata": {},
   "outputs": [
    {
     "name": "stderr",
     "output_type": "stream",
     "text": [
      "C:\\Users\\LOUIS\\AppData\\Roaming\\Python\\Python312\\site-packages\\transformers\\configuration_utils.py:306: UserWarning: Passing `gradient_checkpointing` to a config initialization is deprecated and will be removed in v5 Transformers. Using `model.gradient_checkpointing_enable()` instead, or if you are using the `Trainer` API, pass `gradient_checkpointing=True` in your `TrainingArguments`.\n",
      "  warnings.warn(\n",
      "Some weights of Wav2Vec2ForCTC were not initialized from the model checkpoint at facebook/wav2vec2-base and are newly initialized: ['lm_head.bias', 'lm_head.weight']\n",
      "You should probably TRAIN this model on a down-stream task to be able to use it for predictions and inference.\n"
     ]
    }
   ],
   "source": [
    "from transformers import Wav2Vec2ForCTC\n",
    "\n",
    "model = Wav2Vec2ForCTC.from_pretrained(\n",
    "    \"facebook/wav2vec2-base\",\n",
    "    ctc_loss_reduction=\"mean\",\n",
    "    pad_token_id=processor.tokenizer.pad_token_id,      # Ensure pad token is set\n",
    "    vocab_size=processor.tokenizer.vocab_size           # Match tokenizer vocab size\n",
    ")\n",
    "\n",
    "# Ensure blank token is the last ID\n",
    "model.config.blank_token_id = processor.tokenizer.pad_token_id"
   ]
  },
  {
   "cell_type": "code",
   "execution_count": 15,
   "metadata": {},
   "outputs": [],
   "source": [
    "model.freeze_feature_encoder()"
   ]
  },
  {
   "cell_type": "code",
   "execution_count": 16,
   "metadata": {},
   "outputs": [
    {
     "name": "stdout",
     "output_type": "stream",
     "text": [
      "WARNING:tensorflow:From c:\\Python312\\Lib\\site-packages\\tf_keras\\src\\losses.py:2976: The name tf.losses.sparse_softmax_cross_entropy is deprecated. Please use tf.compat.v1.losses.sparse_softmax_cross_entropy instead.\n",
      "\n"
     ]
    }
   ],
   "source": [
    "from transformers import TrainingArguments\n",
    "\n",
    "training_args = TrainingArguments(\n",
    "  output_dir=\"../results/trainingResults\",\n",
    "  group_by_length=True,\n",
    "  per_device_train_batch_size=15,\n",
    "  eval_strategy=\"steps\",\n",
    "  num_train_epochs=10,\n",
    "  fp16=True,\n",
    "  gradient_checkpointing=True, \n",
    "  save_steps=500,\n",
    "  eval_steps=500,\n",
    "  logging_steps=100,\n",
    "  learning_rate=1e-4,\n",
    "  weight_decay=0.005,\n",
    "  warmup_steps=1000,\n",
    "  save_total_limit=2,\n",
    ")"
   ]
  },
  {
   "cell_type": "code",
   "execution_count": 17,
   "metadata": {},
   "outputs": [
    {
     "name": "stderr",
     "output_type": "stream",
     "text": [
      "C:\\Users\\LOUIS\\AppData\\Local\\Temp\\ipykernel_33576\\1538773598.py:3: FutureWarning: `tokenizer` is deprecated and will be removed in version 5.0.0 for `Trainer.__init__`. Use `processing_class` instead.\n",
      "  trainer = Trainer(\n"
     ]
    }
   ],
   "source": [
    "from transformers import Trainer\n",
    "\n",
    "trainer = Trainer(\n",
    "    model=model,\n",
    "    data_collator=data_collator,\n",
    "    args=training_args,\n",
    "    compute_metrics=compute_metrics,\n",
    "    train_dataset=dataset,\n",
    "    eval_dataset=dataset.select(range(501,600)),\n",
    "    tokenizer=processor.feature_extractor,\n",
    ")"
   ]
  },
  {
   "cell_type": "code",
   "execution_count": null,
   "metadata": {},
   "outputs": [
    {
     "data": {
      "application/vnd.jupyter.widget-view+json": {
       "model_id": "8b67007a33be430380f6d590c93109e1",
       "version_major": 2,
       "version_minor": 0
      },
      "text/plain": [
       "  0%|          | 0/1930 [00:00<?, ?it/s]"
      ]
     },
     "metadata": {},
     "output_type": "display_data"
    },
    {
     "name": "stderr",
     "output_type": "stream",
     "text": [
      "C:\\Users\\LOUIS\\AppData\\Roaming\\Python\\Python312\\site-packages\\transformers\\models\\wav2vec2\\processing_wav2vec2.py:174: UserWarning: `as_target_processor` is deprecated and will be removed in v5 of Transformers. You can process your labels by using the argument `text` of the regular `__call__` method (either in the same call as your audio inputs, or in a separate call.\n",
      "  warnings.warn(\n"
     ]
    }
   ],
   "source": [
    "trainer.train()"
   ]
  },
  {
   "cell_type": "code",
   "execution_count": 82,
   "metadata": {},
   "outputs": [
    {
     "name": "stdout",
     "output_type": "stream",
     "text": [
      "ah aku si semua makanan suka ya\n",
      "Transcription: ['a aku sih sema makanan suka ya']\n"
     ]
    }
   ],
   "source": [
    "# Example audio file\n",
    "test_audio = dataset[800][\"audio\"]  # Replace with your test audio data\n",
    "print(dataset[800]['text'])\n",
    "# Process the audio input\n",
    "input_values = processor(test_audio, sampling_rate=16000, return_tensors=\"pt\").input_values\n",
    "\n",
    "# Move input to GPU if available\n",
    "if torch.cuda.is_available():\n",
    "    input_values = input_values.to(\"cuda\")\n",
    "    model.to(\"cuda\")\n",
    "    print(\"There is cuda!\")\n",
    "\n",
    "# Get the model's predictions\n",
    "with torch.no_grad():\n",
    "    logits = model(input_values).logits\n",
    "\n",
    "# Decode the predictions to text\n",
    "predicted_ids = torch.argmax(logits, dim=-1)\n",
    "transcription = processor.batch_decode(predicted_ids)\n",
    "\n",
    "print(\"Transcription:\", transcription)\n"
   ]
  }
 ],
 "metadata": {
  "kernelspec": {
   "display_name": "Python 3",
   "language": "python",
   "name": "python3"
  },
  "language_info": {
   "codemirror_mode": {
    "name": "ipython",
    "version": 3
   },
   "file_extension": ".py",
   "mimetype": "text/x-python",
   "name": "python",
   "nbconvert_exporter": "python",
   "pygments_lexer": "ipython3",
   "version": "3.12.6"
  }
 },
 "nbformat": 4,
 "nbformat_minor": 2
}
