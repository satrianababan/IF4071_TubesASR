{
 "cells": [
  {
   "cell_type": "code",
   "execution_count": 8,
   "metadata": {},
   "outputs": [],
   "source": [
    "from transformers import Wav2Vec2FeatureExtractor, Wav2Vec2CTCTokenizer, Wav2Vec2Processor, Wav2Vec2ForCTC\n",
    "import torch\n",
    "from scipy.io import wavfile"
   ]
  },
  {
   "cell_type": "code",
   "execution_count": 11,
   "metadata": {},
   "outputs": [],
   "source": [
    "model = Wav2Vec2ForCTC.from_pretrained(\"../results/savedModel\")\n",
    "processor = Wav2Vec2Processor.from_pretrained(\"../results/savedModel\")"
   ]
  },
  {
   "cell_type": "code",
   "execution_count": 13,
   "metadata": {},
   "outputs": [
    {
     "name": "stdout",
     "output_type": "stream",
     "text": [
      "Using CPU for inference\n",
      "Transcription: halo pisela\n"
     ]
    }
   ],
   "source": [
    "sampling_rate, audio = wavfile.read(\"../sliced_audio_segments/A0102_S0001_0_G1357_segment_1.wav\")  # Replace with your audio file path\n",
    "\n",
    "# Ensure the audio file has the correct sampling rate\n",
    "if sampling_rate != 16000:\n",
    "    raise ValueError(\"The audio file must have a sampling rate of 16kHz.\")\n",
    "\n",
    "input_values = processor(audio, sampling_rate=16000, return_tensors=\"pt\").input_values\n",
    "input_values = input_values.float()\n",
    "\n",
    "if torch.cuda.is_available():\n",
    "    input_values = input_values.to(\"cuda\")\n",
    "    model.to(\"cuda\")\n",
    "    print(\"Using GPU for inference\")\n",
    "else:\n",
    "    print(\"Using CPU for inference\")\n",
    "\n",
    "with torch.no_grad():\n",
    "    logits = model(input_values).logits\n",
    "\n",
    "predicted_ids = torch.argmax(logits, dim=-1)\n",
    "transcription = processor.batch_decode(predicted_ids)\n",
    "\n",
    "print(\"Transcription:\", transcription[0])"
   ]
  }
 ],
 "metadata": {
  "kernelspec": {
   "display_name": "Python 3",
   "language": "python",
   "name": "python3"
  },
  "language_info": {
   "codemirror_mode": {
    "name": "ipython",
    "version": 3
   },
   "file_extension": ".py",
   "mimetype": "text/x-python",
   "name": "python",
   "nbconvert_exporter": "python",
   "pygments_lexer": "ipython3",
   "version": "3.12.6"
  }
 },
 "nbformat": 4,
 "nbformat_minor": 2
}
